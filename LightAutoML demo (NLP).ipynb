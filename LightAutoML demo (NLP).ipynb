{
 "cells": [
  {
   "cell_type": "markdown",
   "metadata": {},
   "source": [
    "# AutoML на текстовых данных"
   ]
  },
  {
   "cell_type": "markdown",
   "metadata": {},
   "source": [
    "![NLP](./imgs/tutorial_NLP_image_1.jpg)\n"
   ]
  },
  {
   "cell_type": "markdown",
   "metadata": {},
   "source": [
    "Чуть больше про стратегии получения представлений текстов на основе представлений слов:\n",
    "\n",
    "![NLP2](./imgs/tutorial_NLP_image_2.jpg)\n",
    "\n",
    "Про методы случайных алгоритмов можно подробнее прочитать в [статье](https://arxiv.org/abs/1901.10444) \"No Training Required: Exploring Random Encoders for Sentence Classification\".\n"
   ]
  },
  {
   "cell_type": "markdown",
   "metadata": {},
   "source": [
    "# Импорты"
   ]
  },
  {
   "cell_type": "code",
   "execution_count": 1,
   "metadata": {},
   "outputs": [],
   "source": [
    "import pandas as pd\n",
    "import numpy as np\n",
    "import pickle\n",
    "\n",
    "from sklearn.metrics import roc_auc_score\n",
    "from sklearn.model_selection import train_test_split\n",
    "\n",
    "from lightautoml.automl.presets.text_presets import TabularNLPAutoML\n",
    "from lightautoml.tasks import Task\n",
    "from lightautoml.addons.interpretation import LimeTextExplainer\n",
    "from lightautoml.report import ReportDecoNLP\n",
    "\n",
    "# Выключим предупреждения от HuggingFace\n",
    "import transformers\n",
    "transformers.logging.set_verbosity(50)"
   ]
  },
  {
   "cell_type": "markdown",
   "metadata": {},
   "source": [
    "# Чтение данных"
   ]
  },
  {
   "cell_type": "code",
   "execution_count": 2,
   "metadata": {},
   "outputs": [
    {
     "name": "stdout",
     "output_type": "stream",
     "text": [
      "CPU times: user 183 ms, sys: 39.5 ms, total: 222 ms\n",
      "Wall time: 221 ms\n"
     ]
    }
   ],
   "source": [
    "%%time\n",
    "df = pd.read_csv(\"./example_data/nlp_data.csv\")"
   ]
  },
  {
   "cell_type": "code",
   "execution_count": 3,
   "metadata": {},
   "outputs": [
    {
     "name": "stdout",
     "output_type": "stream",
     "text": [
      "(13842, 6)\n"
     ]
    },
    {
     "data": {
      "text/html": [
       "<div>\n",
       "<style scoped>\n",
       "    .dataframe tbody tr th:only-of-type {\n",
       "        vertical-align: middle;\n",
       "    }\n",
       "\n",
       "    .dataframe tbody tr th {\n",
       "        vertical-align: top;\n",
       "    }\n",
       "\n",
       "    .dataframe thead th {\n",
       "        text-align: right;\n",
       "    }\n",
       "</style>\n",
       "<table border=\"1\" class=\"dataframe\">\n",
       "  <thead>\n",
       "    <tr style=\"text-align: right;\">\n",
       "      <th></th>\n",
       "      <th>BankName</th>\n",
       "      <th>Message</th>\n",
       "      <th>ViewsNum</th>\n",
       "      <th>IsGood</th>\n",
       "      <th>MessageRecognized</th>\n",
       "      <th>WER</th>\n",
       "    </tr>\n",
       "  </thead>\n",
       "  <tbody>\n",
       "    <tr>\n",
       "      <th>11474</th>\n",
       "      <td>Альфа-Банк</td>\n",
       "      <td>Я клиент банка с 2007 года, зарплатный клиент ...</td>\n",
       "      <td>1422</td>\n",
       "      <td>False</td>\n",
       "      <td>Я клиент банка с две тысячи седьмого года зарп...</td>\n",
       "      <td>60.000000</td>\n",
       "    </tr>\n",
       "    <tr>\n",
       "      <th>3955</th>\n",
       "      <td>Альфа-Банк</td>\n",
       "      <td>07.04 в 20-15 по Ульяновскому времени я зашла ...</td>\n",
       "      <td>2016</td>\n",
       "      <td>False</td>\n",
       "      <td>Седьмого апреля в двадцать пятнадцать По Ульян...</td>\n",
       "      <td>31.818182</td>\n",
       "    </tr>\n",
       "    <tr>\n",
       "      <th>3081</th>\n",
       "      <td>Банк Открытие</td>\n",
       "      <td>Ужасный сервис. Заказал кредитную карту по акц...</td>\n",
       "      <td>2232</td>\n",
       "      <td>False</td>\n",
       "      <td>Ужасной Сервис заказал кредитную карту по акци...</td>\n",
       "      <td>68.750000</td>\n",
       "    </tr>\n",
       "    <tr>\n",
       "      <th>12107</th>\n",
       "      <td>Почта Банк</td>\n",
       "      <td>Добрый вечер.  21.01.2020, я обратилась в отде...</td>\n",
       "      <td>1139</td>\n",
       "      <td>False</td>\n",
       "      <td>Добрый вечер двадцать первого января две тысяч...</td>\n",
       "      <td>55.555556</td>\n",
       "    </tr>\n",
       "    <tr>\n",
       "      <th>10494</th>\n",
       "      <td>Русский Стандарт</td>\n",
       "      <td>Банк второй месяц подряд еженедельно названива...</td>\n",
       "      <td>1609</td>\n",
       "      <td>False</td>\n",
       "      <td>Второй месяц подряд еженедельно и предлагает к...</td>\n",
       "      <td>39.393939</td>\n",
       "    </tr>\n",
       "  </tbody>\n",
       "</table>\n",
       "</div>"
      ],
      "text/plain": [
       "               BankName                                            Message  \\\n",
       "11474        Альфа-Банк  Я клиент банка с 2007 года, зарплатный клиент ...   \n",
       "3955         Альфа-Банк  07.04 в 20-15 по Ульяновскому времени я зашла ...   \n",
       "3081      Банк Открытие  Ужасный сервис. Заказал кредитную карту по акц...   \n",
       "12107        Почта Банк  Добрый вечер.  21.01.2020, я обратилась в отде...   \n",
       "10494  Русский Стандарт  Банк второй месяц подряд еженедельно названива...   \n",
       "\n",
       "       ViewsNum  IsGood                                  MessageRecognized  \\\n",
       "11474      1422   False  Я клиент банка с две тысячи седьмого года зарп...   \n",
       "3955       2016   False  Седьмого апреля в двадцать пятнадцать По Ульян...   \n",
       "3081       2232   False  Ужасной Сервис заказал кредитную карту по акци...   \n",
       "12107      1139   False  Добрый вечер двадцать первого января две тысяч...   \n",
       "10494      1609   False  Второй месяц подряд еженедельно и предлагает к...   \n",
       "\n",
       "             WER  \n",
       "11474  60.000000  \n",
       "3955   31.818182  \n",
       "3081   68.750000  \n",
       "12107  55.555556  \n",
       "10494  39.393939  "
      ]
     },
     "execution_count": 3,
     "metadata": {},
     "output_type": "execute_result"
    }
   ],
   "source": [
    "print(df.shape)\n",
    "df.sample(5, random_state=0)"
   ]
  },
  {
   "cell_type": "markdown",
   "metadata": {},
   "source": [
    "# Разбиение на обучающую и контрольные выборки"
   ]
  },
  {
   "cell_type": "code",
   "execution_count": 4,
   "metadata": {},
   "outputs": [],
   "source": [
    "train, test = train_test_split(df, test_size=3_000, random_state=42, stratify=df.IsGood)"
   ]
  },
  {
   "cell_type": "markdown",
   "metadata": {},
   "source": [
    "# Скачиваем эмбеддинги для русского языка"
   ]
  },
  {
   "cell_type": "code",
   "execution_count": 5,
   "metadata": {},
   "outputs": [
    {
     "name": "stdout",
     "output_type": "stream",
     "text": [
      "--2021-06-14 23:58:12--  https://storage.yandexcloud.net/natasha-navec/packs/navec_hudlit_v1_12B_500K_300d_100q.tar\n",
      "Resolving storage.yandexcloud.net (storage.yandexcloud.net)... 213.180.193.243, 2a02:6b8::1d9\n",
      "Connecting to storage.yandexcloud.net (storage.yandexcloud.net)|213.180.193.243|:443... connected.\n",
      "HTTP request sent, awaiting response... 200 OK\n",
      "Length: 53012480 (51M) [application/x-tar]\n",
      "Saving to: ‘navec_hudlit_v1_12B_500K_300d_100q.tar.3’\n",
      "\n",
      "navec_hudlit_v1_12B 100%[===================>]  50.56M  11.4MB/s    in 4.5s    \n",
      "\n",
      "2021-06-14 23:58:16 (11.3 MB/s) - ‘navec_hudlit_v1_12B_500K_300d_100q.tar.3’ saved [53012480/53012480]\n",
      "\n"
     ]
    }
   ],
   "source": [
    "!wget https://storage.yandexcloud.net/natasha-navec/packs/navec_hudlit_v1_12B_500K_300d_100q.tar"
   ]
  },
  {
   "cell_type": "code",
   "execution_count": 6,
   "metadata": {},
   "outputs": [],
   "source": [
    "from navec import Navec\n",
    "path = 'navec_hudlit_v1_12B_500K_300d_100q.tar'\n",
    "navec = Navec.load(path)"
   ]
  },
  {
   "cell_type": "markdown",
   "metadata": {},
   "source": [
    "# Обучение AutoML или День Сурка"
   ]
  },
  {
   "cell_type": "markdown",
   "metadata": {},
   "source": [
    "## День 1. Стандартные параметры, ЦПУ"
   ]
  },
  {
   "cell_type": "code",
   "execution_count": null,
   "metadata": {
    "scrolled": true
   },
   "outputs": [],
   "source": [
    "roles = {'target': 'IsGood',\n",
    "         'text': ['BankName', 'Message'],\n",
    "         'drop': ['MessageRecognized', 'WER']}\n",
    "\n",
    "task = Task('binary')\n",
    "\n",
    "automl = TabularNLPAutoML(task = task, \n",
    "                          timeout = 3600,\n",
    "                          gpu_ids = None,\n",
    "                          text_params = {'lang': 'ru'},\n",
    "                          verbose=2)\n",
    "\n",
    "oof_pred = automl.fit_predict(train, roles=roles) \n",
    "not_nan = np.any(~np.isnan(oof_pred.data), axis=1)"
   ]
  },
  {
   "cell_type": "code",
   "execution_count": 8,
   "metadata": {},
   "outputs": [
    {
     "name": "stdout",
     "output_type": "stream",
     "text": [
      "AUC OOF score: 0.8326628448807263\n"
     ]
    }
   ],
   "source": [
    "print('AUC OOF score: {}'.format(roc_auc_score(train[roles['target']].values[not_nan], oof_pred.data[not_nan][:, 0])))"
   ]
  },
  {
   "cell_type": "code",
   "execution_count": 9,
   "metadata": {},
   "outputs": [
    {
     "name": "stdout",
     "output_type": "stream",
     "text": [
      "Feature concated__BankName__Message transformed\n",
      "AUC TEST score: 0.8397933778340239\n",
      "CPU times: user 7.46 s, sys: 1.74 s, total: 9.2 s\n",
      "Wall time: 11.5 s\n"
     ]
    }
   ],
   "source": [
    "%%time \n",
    "\n",
    "test_pred = automl.predict(test)\n",
    "print('AUC TEST score: {}'.format(roc_auc_score(test[roles['target']].values, test_pred.data[:, 0])))"
   ]
  },
  {
   "cell_type": "markdown",
   "metadata": {},
   "source": [
    "## День 2. Пользовательские представления слов, ЦПУ"
   ]
  },
  {
   "cell_type": "code",
   "execution_count": null,
   "metadata": {
    "scrolled": true
   },
   "outputs": [],
   "source": [
    "roles = {'target': 'IsGood',\n",
    "         'text': ['BankName', 'Message'],\n",
    "         'drop': ['MessageRecognized', 'WER']}\n",
    "\n",
    "task = Task('binary')\n",
    "\n",
    "automl = TabularNLPAutoML(task = task, \n",
    "                          timeout = 3600,\n",
    "                          gpu_ids = None,\n",
    "                          text_params = {'lang': 'ru'},\n",
    "                          autonlp_params={'model_name': 'wat', 'embedding_model': navec,\n",
    "                                          'transformer_params': {'model_params': {'embed_size': 300},\n",
    "                                                                 'weight_type': 'idf', 'use_svd': True}},\n",
    "                          verbose=2)\n",
    "\n",
    "oof_pred = automl.fit_predict(train, roles=roles) \n",
    "not_nan = np.any(~np.isnan(oof_pred.data), axis=1)"
   ]
  },
  {
   "cell_type": "code",
   "execution_count": 11,
   "metadata": {},
   "outputs": [
    {
     "name": "stdout",
     "output_type": "stream",
     "text": [
      "AUC OOF score: 0.8331853706309897\n"
     ]
    }
   ],
   "source": [
    "print('AUC OOF score: {}'.format(roc_auc_score(train[roles['target']].values[not_nan], oof_pred.data[not_nan][:, 0])))"
   ]
  },
  {
   "cell_type": "code",
   "execution_count": 12,
   "metadata": {},
   "outputs": [
    {
     "name": "stdout",
     "output_type": "stream",
     "text": [
      "Feature concated__BankName__Message transformed\n",
      "AUC TEST score: 0.8433377172303697\n",
      "CPU times: user 11.7 s, sys: 1.82 s, total: 13.5 s\n",
      "Wall time: 15.4 s\n"
     ]
    }
   ],
   "source": [
    "%%time \n",
    "\n",
    "test_pred = automl.predict(test)\n",
    "print('AUC TEST score: {}'.format(roc_auc_score(test[roles['target']].values, test_pred.data[:, 0])))"
   ]
  },
  {
   "cell_type": "markdown",
   "metadata": {},
   "source": [
    "## День 3. Стандартные параметры, ГПУ"
   ]
  },
  {
   "cell_type": "code",
   "execution_count": null,
   "metadata": {
    "scrolled": true
   },
   "outputs": [],
   "source": [
    "roles = {'target': 'IsGood',\n",
    "         'text': ['BankName', 'Message'],\n",
    "         'drop': ['MessageRecognized', 'WER']}\n",
    "\n",
    "task = Task('binary')\n",
    "\n",
    "automl = TabularNLPAutoML(task = task, \n",
    "                          timeout = 3600,\n",
    "                          gpu_ids = '1',\n",
    "                          text_params = {'lang': 'ru'},\n",
    "                          nn_params = {'lang': 'ru'},\n",
    "                          verbose=2)\n",
    "\n",
    "oof_pred = automl.fit_predict(train, roles=roles) \n",
    "not_nan = np.any(~np.isnan(oof_pred.data), axis=1)"
   ]
  },
  {
   "cell_type": "code",
   "execution_count": 14,
   "metadata": {},
   "outputs": [
    {
     "name": "stdout",
     "output_type": "stream",
     "text": [
      "AUC OOF score: 0.895916820914043\n"
     ]
    }
   ],
   "source": [
    "print('AUC OOF score: {}'.format(roc_auc_score(train[roles['target']].values[not_nan], oof_pred.data[not_nan][:, 0])))"
   ]
  },
  {
   "cell_type": "code",
   "execution_count": 15,
   "metadata": {},
   "outputs": [
    {
     "name": "stderr",
     "output_type": "stream",
     "text": [
      "100%|██████████| 10/10 [00:16<00:00,  1.69s/it]\n"
     ]
    },
    {
     "name": "stdout",
     "output_type": "stream",
     "text": [
      "Feature concated__BankName__Message transformed\n"
     ]
    },
    {
     "name": "stderr",
     "output_type": "stream",
     "text": [
      "test: 100%|██████████| 188/188 [00:30<00:00,  6.13it/s]\n",
      "test: 100%|██████████| 188/188 [00:30<00:00,  6.11it/s]\n",
      "test: 100%|██████████| 188/188 [00:30<00:00,  6.11it/s]\n"
     ]
    },
    {
     "name": "stdout",
     "output_type": "stream",
     "text": [
      "AUC TEST score: 0.9052540592405104\n",
      "CPU times: user 1min 32s, sys: 33.2 s, total: 2min 6s\n",
      "Wall time: 2min 26s\n"
     ]
    }
   ],
   "source": [
    "%%time \n",
    "\n",
    "test_pred = automl.predict(test)\n",
    "print('AUC TEST score: {}'.format(roc_auc_score(test[roles['target']].values, test_pred.data[:, 0])))"
   ]
  },
  {
   "cell_type": "markdown",
   "metadata": {},
   "source": [
    "## День 4. Пользовательские представления слов, ГПУ, LightGBM"
   ]
  },
  {
   "cell_type": "code",
   "execution_count": null,
   "metadata": {
    "scrolled": true
   },
   "outputs": [],
   "source": [
    "roles = {'target': 'IsGood',\n",
    "         'text': ['BankName', 'Message'],\n",
    "         'drop': ['MessageRecognized', 'WER']}\n",
    "\n",
    "task = Task('binary')\n",
    "\n",
    "automl = TabularNLPAutoML(task = task, \n",
    "                          timeout = 3600,\n",
    "                          gpu_ids = '1',\n",
    "                          general_params = {'use_algos': ['lgb']},\n",
    "                          text_params = {'lang': 'ru'},\n",
    "                          autonlp_params={'model_name': 'random_lstm', 'embedding_model': navec},\n",
    "                          verbose=2)\n",
    "\n",
    "oof_pred = automl.fit_predict(train, roles=roles) \n",
    "not_nan = np.any(~np.isnan(oof_pred.data), axis=1)"
   ]
  },
  {
   "cell_type": "code",
   "execution_count": 17,
   "metadata": {},
   "outputs": [
    {
     "name": "stdout",
     "output_type": "stream",
     "text": [
      "AUC OOF score: 0.6699591052567759\n"
     ]
    }
   ],
   "source": [
    "print('AUC OOF score: {}'.format(roc_auc_score(train[roles['target']].values[not_nan], oof_pred.data[not_nan][:, 0])))"
   ]
  },
  {
   "cell_type": "code",
   "execution_count": 18,
   "metadata": {},
   "outputs": [
    {
     "name": "stderr",
     "output_type": "stream",
     "text": [
      "100%|██████████| 3/3 [00:04<00:00,  1.40s/it]\n"
     ]
    },
    {
     "name": "stdout",
     "output_type": "stream",
     "text": [
      "Feature concated__BankName__Message transformed\n",
      "AUC TEST score: 0.6823280698997218\n",
      "CPU times: user 1.19 s, sys: 717 ms, total: 1.91 s\n",
      "Wall time: 4.89 s\n"
     ]
    }
   ],
   "source": [
    "%%time \n",
    "\n",
    "test_pred = automl.predict(test)\n",
    "print('AUC TEST score: {}'.format(roc_auc_score(test[roles['target']].values, test_pred.data[:, 0])))"
   ]
  },
  {
   "cell_type": "markdown",
   "metadata": {},
   "source": [
    "## День 5. Выбор агрегации представлений слов, ГПУ,  линейная модель и LightGBM"
   ]
  },
  {
   "cell_type": "code",
   "execution_count": null,
   "metadata": {},
   "outputs": [],
   "source": [
    "roles = {'target': 'IsGood',\n",
    "         'text': ['BankName', 'Message'],\n",
    "         'drop': ['MessageRecognized', 'WER']}\n",
    "\n",
    "task = Task('binary')\n",
    "\n",
    "automl = TabularNLPAutoML(task = task, \n",
    "                          timeout = 3600,\n",
    "                          gpu_ids = '1',\n",
    "                          general_params = {'use_algos': ['linear_l2', 'lgb']},\n",
    "                          text_params = {'lang': 'ru'},\n",
    "                          autonlp_params={'model_name': 'pooled_bert'},\n",
    "                          verbose=2)\n",
    "\n",
    "oof_pred = automl.fit_predict(train, roles=roles) \n",
    "not_nan = np.any(~np.isnan(oof_pred.data), axis=1)"
   ]
  },
  {
   "cell_type": "code",
   "execution_count": 20,
   "metadata": {},
   "outputs": [
    {
     "name": "stdout",
     "output_type": "stream",
     "text": [
      "AUC OOF score: 0.8886449778166853\n"
     ]
    }
   ],
   "source": [
    "print('AUC OOF score: {}'.format(roc_auc_score(train[roles['target']].values[not_nan], oof_pred.data[not_nan][:, 0])))"
   ]
  },
  {
   "cell_type": "code",
   "execution_count": 21,
   "metadata": {},
   "outputs": [
    {
     "name": "stderr",
     "output_type": "stream",
     "text": [
      "100%|██████████| 10/10 [00:16<00:00,  1.64s/it]\n"
     ]
    },
    {
     "name": "stdout",
     "output_type": "stream",
     "text": [
      "Feature concated__BankName__Message transformed\n",
      "AUC TEST score: 0.8930039620503403\n",
      "CPU times: user 13.6 s, sys: 6.03 s, total: 19.7 s\n",
      "Wall time: 27.6 s\n"
     ]
    }
   ],
   "source": [
    "%%time \n",
    "\n",
    "test_pred = automl.predict(test)\n",
    "print('AUC TEST score: {}'.format(roc_auc_score(test[roles['target']].values, test_pred.data[:, 0])))"
   ]
  },
  {
   "cell_type": "markdown",
   "metadata": {},
   "source": [
    "## День 6. Выбор модели Transformers, ГПУ\n",
    "\n",
    "rubert-tiny. Подробнее в [статье](https://habr.com/ru/post/562064/)."
   ]
  },
  {
   "cell_type": "code",
   "execution_count": null,
   "metadata": {},
   "outputs": [],
   "source": [
    "roles = {'target': 'IsGood',\n",
    "         'text': ['BankName', 'Message'],\n",
    "         'drop': ['MessageRecognized', 'WER']}\n",
    "\n",
    "task = Task('binary')\n",
    "\n",
    "automl = TabularNLPAutoML(task = task, \n",
    "                          timeout = 3600,\n",
    "                          gpu_ids = '1',\n",
    "                          general_params = {'use_algos': ['nn']},\n",
    "                          nn_params = {'lang': 'ru', 'bert_name': \"cointegrated/rubert-tiny\"},\n",
    "                          verbose=2)\n",
    "\n",
    "oof_pred = automl.fit_predict(train, roles=roles) \n",
    "not_nan = np.any(~np.isnan(oof_pred.data), axis=1)"
   ]
  },
  {
   "cell_type": "code",
   "execution_count": 23,
   "metadata": {},
   "outputs": [
    {
     "name": "stdout",
     "output_type": "stream",
     "text": [
      "AUC OOF score: 0.8444397429684534\n"
     ]
    }
   ],
   "source": [
    "print('AUC OOF score: {}'.format(roc_auc_score(train[roles['target']].values[not_nan], oof_pred.data[not_nan][:, 0])))"
   ]
  },
  {
   "cell_type": "code",
   "execution_count": 24,
   "metadata": {},
   "outputs": [
    {
     "name": "stderr",
     "output_type": "stream",
     "text": [
      "test: 100%|██████████| 188/188 [00:03<00:00, 52.82it/s]\n",
      "test: 100%|██████████| 188/188 [00:03<00:00, 52.87it/s]\n",
      "test: 100%|██████████| 188/188 [00:03<00:00, 52.69it/s]\n"
     ]
    },
    {
     "name": "stdout",
     "output_type": "stream",
     "text": [
      "AUC TEST score: 0.8588585048981088\n",
      "CPU times: user 9.53 s, sys: 2.83 s, total: 12.4 s\n",
      "Wall time: 24.8 s\n"
     ]
    }
   ],
   "source": [
    "%%time \n",
    "\n",
    "test_pred = automl.predict(test)\n",
    "print('AUC TEST score: {}'.format(roc_auc_score(test[roles['target']].values, test_pred.data[:, 0])))"
   ]
  },
  {
   "cell_type": "markdown",
   "metadata": {},
   "source": [
    "# Что дальше?"
   ]
  },
  {
   "cell_type": "markdown",
   "metadata": {},
   "source": [
    "## Интерпретация"
   ]
  },
  {
   "cell_type": "markdown",
   "metadata": {},
   "source": [
    "### LIME\n",
    "\n",
    "Примерный алгоритм работы:\n",
    "\n",
    "1. Выбирается текстовая колонка (perturb_column), с помощью которой будем интерпретировать выделенное предсказание модели. При этом все остальные признаки фиксированные.\n",
    "2. Создается датасет размера n_sample (по-умолчанию 5000) путем случайных удалениий токенов (группами). Датасет бинарный (есть токен / нет токена).\n",
    "3. Опционально производится отбор признаков (важных токенов) с помощью LASSO (feature_selection='lasso', можно также 'none', чтобы не производить отбор). Количество признаков равно n_feautres (10 по умолчанию).\n",
    "4. Обучаем на этом объясняемую модель (линейную с весами, способ подсчета весов -- косинусное расстояние по-умолчанию, также можно и свою функцию или название расстояния из sklearn.metrics.pairwise_distances). \n",
    "5. После этого веса линейной модели и являются интерпретацией.\n",
    "\n",
    "tips: force_order отвечает за то, использовать ли признаки как мешок слов(force_order=False) или важен их порядок (force_order=True)."
   ]
  },
  {
   "cell_type": "code",
   "execution_count": 25,
   "metadata": {},
   "outputs": [],
   "source": [
    "lime = LimeTextExplainer(automl, feature_selection='lasso', force_order=False)"
   ]
  },
  {
   "cell_type": "code",
   "execution_count": 26,
   "metadata": {},
   "outputs": [
    {
     "name": "stderr",
     "output_type": "stream",
     "text": [
      "test: 100%|██████████| 313/313 [00:05<00:00, 57.01it/s]\n",
      "test: 100%|██████████| 313/313 [00:05<00:00, 57.30it/s]\n",
      "test: 100%|██████████| 313/313 [00:05<00:00, 57.07it/s]\n"
     ]
    },
    {
     "data": {
      "text/html": [
       "<p style=\"font-size:14px;\"><span style=\"background-color: #FFFEFE\">Добрый</span> <span style=\"background-color: #FFFEFE\"> </span> <span style=\"background-color: #FFFEFE\">день!</span> <span style=\"background-color: #FFFEFE\"> </span> <span style=\"background-color: #FFFEFE\">Я</span> <span style=\"background-color: #FFFEFE\"> </span> <span style=\"background-color: #FFFEFE\">являюсь</span> <span style=\"background-color: #FFFEFE\"> </span> <span style=\"background-color: #8888FF\">счастливым</span> <span style=\"background-color: #FFFEFE\"> </span> <span style=\"background-color: #FFFEFE\">обладателем</span> <span style=\"background-color: #FFFEFE\"> </span> <span style=\"background-color: #FFFEFE\">кредитной</span> <span style=\"background-color: #FFFEFE\"> </span> <span style=\"background-color: #FF8C8C\">карты</span> <span style=\"background-color: #FFFEFE\"> </span> <span style=\"background-color: #FFCCCC\">данного</span> <span style=\"background-color: #FFFEFE\"> </span> <span style=\"background-color: #FFD3D3\">банка.</span> <span style=\"background-color: #FFFEFE\"> </span> <span style=\"background-color: #FFDADA\">20го</span> <span style=\"background-color: #FFFEFE\"> </span> <span style=\"background-color: #FFDCDC\">числа</span> <span style=\"background-color: #FFFEFE\"> </span> <span style=\"background-color: #FFBABA\">должен</span> <span style=\"background-color: #FFFEFE\"> </span> <span style=\"background-color: #DADAFF\">был</span> <span style=\"background-color: #FFFEFE\"> </span> <span style=\"background-color: #FFFEFE\">произвести</span> <span style=\"background-color: #FFFEFE\"> </span> <span style=\"background-color: #FFCCCC\">пополнение</span> <span style=\"background-color: #FFFEFE\"> </span> <span style=\"background-color: #FF8C8C\">карты</span> <span style=\"background-color: #FFFEFE\"> </span> <span style=\"background-color: #FFFEFE\">для</span> <span style=\"background-color: #FFFEFE\"> </span> <span style=\"background-color: #FFFEFE\">того,</span> <span style=\"background-color: #FFFEFE\"> </span> <span style=\"background-color: #FFFEFE\">чтобы</span> <span style=\"background-color: #FFFEFE\"> </span> <span style=\"background-color: #FFFEFE\">полностью</span> <span style=\"background-color: #FFFEFE\"> </span> <span style=\"background-color: #FFFEFE\">воспользоваться</span> <span style=\"background-color: #FFFEFE\"> </span> <span style=\"background-color: #D6D6FF\">льготным</span> <span style=\"background-color: #FFFEFE\"> </span> <span style=\"background-color: #FFFEFE\">периодом</span> <span style=\"background-color: #FFFEFE\"> </span> <span style=\"background-color: #FFFEFE\">кредитования.</span></p>"
      ]
     },
     "metadata": {},
     "output_type": "display_data"
    }
   ],
   "source": [
    "instance = test.iloc[0] # объект для интерпретации\n",
    "exp = lime.explain_instance(instance, labels=(0, 1), perturb_column='Message')\n",
    "exp.visualize_in_notebook(label=1)"
   ]
  },
  {
   "cell_type": "code",
   "execution_count": 27,
   "metadata": {},
   "outputs": [
    {
     "name": "stderr",
     "output_type": "stream",
     "text": [
      "test: 100%|██████████| 313/313 [00:05<00:00, 57.36it/s]\n",
      "test: 100%|██████████| 313/313 [00:05<00:00, 57.73it/s]\n",
      "test: 100%|██████████| 313/313 [00:05<00:00, 54.12it/s]\n"
     ]
    },
    {
     "data": {
      "text/html": [
       "<p style=\"font-size:14px;\"><span style=\"background-color: #FFFEFE\">Я</span> <span style=\"background-color: #FFFEFE\"> </span> <span style=\"background-color: #FFFEFE\">просто</span> <span style=\"background-color: #FFFEFE\"> </span> <span style=\"background-color: #FFFEFE\">в</span> <span style=\"background-color: #FFFEFE\"> </span> <span style=\"background-color: #FFFEFE\">шоке</span> <span style=\"background-color: #FFFEFE\"> </span> <span style=\"background-color: #FFFEFE\">от</span> <span style=\"background-color: #FFFEFE\"> </span> <span style=\"background-color: #FFFEFE\">этого</span> <span style=\"background-color: #FFFEFE\"> </span> <span style=\"background-color: #FF9898\">банка!!!</span> <span style=\"background-color: #FFFEFE\"> </span> <span style=\"background-color: #FFD2D2\">После</span> <span style=\"background-color: #FFFEFE\"> </span> <span style=\"background-color: #FFFEFE\">ошибки</span> <span style=\"background-color: #FFFEFE\"> </span> <span style=\"background-color: #FFCECE\">сотрудников</span> <span style=\"background-color: #FFFEFE\"> </span> <span style=\"background-color: #FFFEFE\">возникла</span> <span style=\"background-color: #FFFEFE\"> </span> <span style=\"background-color: #FFFEFE\">спорная</span> <span style=\"background-color: #FFFEFE\"> </span> <span style=\"background-color: #FFFEFE\">ситуация</span> <span style=\"background-color: #FFFEFE\"> </span> <span style=\"background-color: #FFFEFE\">и</span> <span style=\"background-color: #FFFEFE\"> </span> <span style=\"background-color: #FFFEFE\">я,</span> <span style=\"background-color: #FFFEFE\"> </span> <span style=\"background-color: #FFFEFE\">как</span> <span style=\"background-color: #FFFEFE\"> </span> <span style=\"background-color: #A3A3FF\">добропорядочный</span> <span style=\"background-color: #FFFEFE\"> </span> <span style=\"background-color: #FFFEFE\">клиент</span> <span style=\"background-color: #FFFEFE\"> </span> <span style=\"background-color: #B3B3FF\">обратилась</span> <span style=\"background-color: #FFFEFE\"> </span> <span style=\"background-color: #FFFEFE\">в</span> <span style=\"background-color: #FFFEFE\"> </span> <span style=\"background-color: #FFFEFE\">отделение</span> <span style=\"background-color: #FFFEFE\"> </span> <span style=\"background-color: #FFFEFE\">и</span> <span style=\"background-color: #FFFEFE\"> </span> <span style=\"background-color: #FFFEFE\">оформила</span> <span style=\"background-color: #FFFEFE\"> </span> <span style=\"background-color: #FFFEFE\">претензию</span> <span style=\"background-color: #FFFEFE\"> </span> <span style=\"background-color: #FFFEFE\">лично</span> <span style=\"background-color: #FFFEFE\"> </span> <span style=\"background-color: #FF8C8C\">(19.09.16) и</span> <span style=\"background-color: #FFFEFE\"> </span> <span style=\"background-color: #FFFEFE\">на</span> <span style=\"background-color: #FFFEFE\"> </span> <span style=\"background-color: #FFFEFE\">этом</span> <span style=\"background-color: #FFFEFE\"> </span> <span style=\"background-color: #FFBCBC\">сайте</span> <span style=\"background-color: #FFFEFE\"> </span> <span style=\"background-color: #FF8888\">(21.09.16) для</span> <span style=\"background-color: #FFFEFE\"> </span> <span style=\"background-color: #FFFEFE\">более</span> <span style=\"background-color: #FFFEFE\"> </span> <span style=\"background-color: #FFFEFE\">оперативного</span> <span style=\"background-color: #FFFEFE\"> </span> <span style=\"background-color: #ACACFF\">реагирования.</span> <span style=\"background-color: #FFFEFE\"> </span> <span style=\"background-color: #FFFEFE\">Мне</span> <span style=\"background-color: #FFFEFE\"> </span> <span style=\"background-color: #FFFEFE\">обещали</span> <span style=\"background-color: #FFFEFE\"> </span> <span style=\"background-color: #FFFEFE\">рассмотреть</span> <span style=\"background-color: #FFFEFE\"> </span> <span style=\"background-color: #FFFEFE\">мои</span> <span style=\"background-color: #FFFEFE\"> </span> <span style=\"background-color: #FFFEFE\">обращения</span> <span style=\"background-color: #FFFEFE\"> </span> <span style=\"background-color: #FFFEFE\">в</span> <span style=\"background-color: #FFFEFE\"> </span> <span style=\"background-color: #FFFEFE\">течении</span> <span style=\"background-color: #FFFEFE\"> </span> <span style=\"background-color: #FFB6B6\">14</span> <span style=\"background-color: #FFFEFE\"> </span> <span style=\"background-color: #FFFEFE\">рабочих</span> <span style=\"background-color: #FFFEFE\"> </span> <span style=\"background-color: #FFFEFE\">дней.</span></p>"
      ]
     },
     "metadata": {},
     "output_type": "display_data"
    }
   ],
   "source": [
    "instance = test.iloc[-1] # объект для интерпретации\n",
    "exp = lime.explain_instance(instance, labels=(0, 1), perturb_column='Message')\n",
    "exp.visualize_in_notebook(label=1)"
   ]
  },
  {
   "cell_type": "markdown",
   "metadata": {},
   "source": [
    "## Отчет"
   ]
  },
  {
   "cell_type": "code",
   "execution_count": null,
   "metadata": {
    "scrolled": true
   },
   "outputs": [],
   "source": [
    "RD = ReportDecoNLP(output_path='NLP_REPORT', \n",
    "                   report_file_name='report_nlp.html')\n",
    "\n",
    "roles = {'target': 'IsGood',\n",
    "         'text': ['BankName', 'Message'],\n",
    "         'drop': ['MessageRecognized', 'WER']}\n",
    "\n",
    "task = Task('binary')\n",
    "\n",
    "automl = TabularNLPAutoML(task = task, \n",
    "                          timeout = 3600,\n",
    "                          gpu_ids = '1',\n",
    "                          general_params = {'use_algos': ['linear_l2']},\n",
    "                          linear_pipeline_params = {'text_features': \"embed\"},\n",
    "                          text_params = {'lang': 'ru'},\n",
    "                          autonlp_params={'model_name': 'pooled_bert',\n",
    "                                          'transformer_params': {'model_params': {'pooling': 'cls'}}},\n",
    "                          verbose=2)\n",
    "\n",
    "automl_rd = RD(automl)\n",
    "\n",
    "oof_pred = automl_rd.fit_predict(train, roles=roles) \n",
    "not_nan = np.any(~np.isnan(oof_pred.data), axis=1)"
   ]
  },
  {
   "cell_type": "code",
   "execution_count": 29,
   "metadata": {},
   "outputs": [
    {
     "name": "stdout",
     "output_type": "stream",
     "text": [
      "AUC OOF score: 0.8608724490033035\n"
     ]
    }
   ],
   "source": [
    "print('AUC OOF score: {}'.format(roc_auc_score(train[roles['target']].values[not_nan], oof_pred.data[not_nan][:, 0])))"
   ]
  },
  {
   "cell_type": "code",
   "execution_count": 30,
   "metadata": {},
   "outputs": [
    {
     "name": "stderr",
     "output_type": "stream",
     "text": [
      "100%|██████████| 3/3 [00:16<00:00,  5.45s/it]\n"
     ]
    },
    {
     "name": "stdout",
     "output_type": "stream",
     "text": [
      "Feature concated__BankName__Message transformed\n",
      "AUC TEST score: 0.8713822510070556\n",
      "CPU times: user 13.9 s, sys: 4.86 s, total: 18.7 s\n",
      "Wall time: 23.2 s\n"
     ]
    }
   ],
   "source": [
    "%%time \n",
    "\n",
    "test_pred = automl_rd.predict(test)\n",
    "print('AUC TEST score: {}'.format(roc_auc_score(test[roles['target']].values, test_pred.data[:, 0])))"
   ]
  },
  {
   "cell_type": "markdown",
   "metadata": {},
   "source": [
    "Отчет лежит [здесь](./NLP_REPORT/report_nlp.html)."
   ]
  },
  {
   "cell_type": "markdown",
   "metadata": {},
   "source": [
    "## Сохранение модели"
   ]
  },
  {
   "cell_type": "code",
   "execution_count": 31,
   "metadata": {},
   "outputs": [],
   "source": [
    "with open('LAMA_model.pkl', 'wb') as f:\n",
    "    pickle.dump(automl_rd, f)"
   ]
  },
  {
   "cell_type": "markdown",
   "metadata": {},
   "source": [
    "## Больше материалов\n",
    "\n",
    "* Github [LightAutoML](https://github.com/sberbank-ai-lab/LightAutoML) со ссылками на все материалы.\n",
    "* Канал [LAMA](https://t.me/lightautoml) в Telegram.\n",
    "* Примеры на kaggle с использованием текстового функционала в условии отсутсвия доступа к интернету во время инференса: [обучение](https://www.kaggle.com/simakov/lama-bert-starter) и [инференс](https://www.kaggle.com/simakov/lama-bert-inference)."
   ]
  }
 ],
 "metadata": {
  "kernelspec": {
   "display_name": "Python 3",
   "language": "python",
   "name": "python3"
  },
  "language_info": {
   "codemirror_mode": {
    "name": "ipython",
    "version": 3
   },
   "file_extension": ".py",
   "mimetype": "text/x-python",
   "name": "python",
   "nbconvert_exporter": "python",
   "pygments_lexer": "ipython3",
   "version": "3.7.6"
  }
 },
 "nbformat": 4,
 "nbformat_minor": 5
}
